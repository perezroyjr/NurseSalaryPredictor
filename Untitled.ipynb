{
 "cells": [
  {
   "cell_type": "code",
   "execution_count": 1,
   "id": "a170b3f1",
   "metadata": {},
   "outputs": [],
   "source": [
    "# Regression Example With Boston Dataset: Baseline\n",
    "import pandas as pd\n",
    "from keras.models import Sequential\n",
    "from keras.layers import Dense\n",
    "from keras.wrappers.scikit_learn import KerasRegressor\n",
    "from sklearn.model_selection import cross_val_score\n",
    "from sklearn.model_selection import KFold\n",
    "import numpy as np\n",
    "# load dataset\n",
    "nurses = pd.read_csv(\"nurses.csv\")\n",
    "nurses.drop(axis=1, columns=['JobTitle'], inplace=True)\n",
    "nurses['BasePay'].isnull().values.any()\n",
    "nurses.dropna()\n",
    "dataset = nurses.values\n",
    "# split into input (X) and output (Y) variables\n",
    "X = dataset[:,0]\n",
    "Y = dataset[:,1]\n",
    "\n"
   ]
  },
  {
   "cell_type": "code",
   "execution_count": 2,
   "id": "c4ba3bb1",
   "metadata": {},
   "outputs": [],
   "source": [
    "X = X.reshape((9196,1))\n",
    "X = np.nan_to_num(X)\n",
    "Y = Y.reshape((9196,1))\n",
    "Y = np.nan_to_num(Y)"
   ]
  },
  {
   "cell_type": "code",
   "execution_count": 3,
   "id": "15c31864",
   "metadata": {},
   "outputs": [
    {
     "name": "stdout",
     "output_type": "stream",
     "text": [
      "Baseline: -1841330.22 (1585820.90) MSE\n"
     ]
    }
   ],
   "source": [
    "# define base model\n",
    "def baseline_model():\n",
    "\t# create model\n",
    "\tmodel = Sequential()\n",
    "\tmodel.add(Dense(2, input_dim=1, kernel_initializer='normal', activation='relu'))\n",
    "\tmodel.add(Dense(1, kernel_initializer='normal'))\n",
    "\t# Compile model\n",
    "\tmodel.compile(loss='mean_squared_error', optimizer='adam')\n",
    "\treturn model\n",
    "# evaluate model\n",
    "estimator = KerasRegressor(build_fn=baseline_model, epochs=100, batch_size=5, verbose=0)\n",
    "kfold = KFold(n_splits=10)\n",
    "results = cross_val_score(estimator, X, Y, cv=kfold)\n",
    "print(\"Baseline: %.2f (%.2f) MSE\" % (results.mean(), results.std()))"
   ]
  }
 ],
 "metadata": {
  "kernelspec": {
   "display_name": "Python 3 (ipykernel)",
   "language": "python",
   "name": "python3"
  },
  "language_info": {
   "codemirror_mode": {
    "name": "ipython",
    "version": 3
   },
   "file_extension": ".py",
   "mimetype": "text/x-python",
   "name": "python",
   "nbconvert_exporter": "python",
   "pygments_lexer": "ipython3",
   "version": "3.9.7"
  }
 },
 "nbformat": 4,
 "nbformat_minor": 5
}
