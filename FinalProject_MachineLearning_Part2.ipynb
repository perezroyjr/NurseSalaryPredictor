{
 "cells": [
  {
   "cell_type": "markdown",
   "id": "778e77c9",
   "metadata": {},
   "source": [
    "<h1>Linear Regression Model</h1>"
   ]
  },
  {
   "cell_type": "code",
   "execution_count": 20,
   "id": "5c688561",
   "metadata": {},
   "outputs": [
    {
     "data": {
      "text/html": [
       "<div>\n",
       "<style scoped>\n",
       "    .dataframe tbody tr th:only-of-type {\n",
       "        vertical-align: middle;\n",
       "    }\n",
       "\n",
       "    .dataframe tbody tr th {\n",
       "        vertical-align: top;\n",
       "    }\n",
       "\n",
       "    .dataframe thead th {\n",
       "        text-align: right;\n",
       "    }\n",
       "</style>\n",
       "<table border=\"1\" class=\"dataframe\">\n",
       "  <thead>\n",
       "    <tr style=\"text-align: right;\">\n",
       "      <th></th>\n",
       "      <th>BasePay</th>\n",
       "      <th>Year</th>\n",
       "    </tr>\n",
       "  </thead>\n",
       "  <tbody>\n",
       "    <tr>\n",
       "      <th>0</th>\n",
       "      <td>174044.89</td>\n",
       "      <td>2012</td>\n",
       "    </tr>\n",
       "    <tr>\n",
       "      <th>1</th>\n",
       "      <td>129121.08</td>\n",
       "      <td>2012</td>\n",
       "    </tr>\n",
       "    <tr>\n",
       "      <th>2</th>\n",
       "      <td>134022.00</td>\n",
       "      <td>2012</td>\n",
       "    </tr>\n",
       "    <tr>\n",
       "      <th>3</th>\n",
       "      <td>134022.00</td>\n",
       "      <td>2012</td>\n",
       "    </tr>\n",
       "    <tr>\n",
       "      <th>4</th>\n",
       "      <td>133533.60</td>\n",
       "      <td>2012</td>\n",
       "    </tr>\n",
       "    <tr>\n",
       "      <th>...</th>\n",
       "      <td>...</td>\n",
       "      <td>...</td>\n",
       "    </tr>\n",
       "    <tr>\n",
       "      <th>9191</th>\n",
       "      <td>4176.00</td>\n",
       "      <td>2018</td>\n",
       "    </tr>\n",
       "    <tr>\n",
       "      <th>9192</th>\n",
       "      <td>4337.98</td>\n",
       "      <td>2018</td>\n",
       "    </tr>\n",
       "    <tr>\n",
       "      <th>9193</th>\n",
       "      <td>4982.40</td>\n",
       "      <td>2018</td>\n",
       "    </tr>\n",
       "    <tr>\n",
       "      <th>9194</th>\n",
       "      <td>4048.80</td>\n",
       "      <td>2018</td>\n",
       "    </tr>\n",
       "    <tr>\n",
       "      <th>9195</th>\n",
       "      <td>4831.20</td>\n",
       "      <td>2018</td>\n",
       "    </tr>\n",
       "  </tbody>\n",
       "</table>\n",
       "<p>9185 rows × 2 columns</p>\n",
       "</div>"
      ],
      "text/plain": [
       "        BasePay  Year\n",
       "0     174044.89  2012\n",
       "1     129121.08  2012\n",
       "2     134022.00  2012\n",
       "3     134022.00  2012\n",
       "4     133533.60  2012\n",
       "...         ...   ...\n",
       "9191    4176.00  2018\n",
       "9192    4337.98  2018\n",
       "9193    4982.40  2018\n",
       "9194    4048.80  2018\n",
       "9195    4831.20  2018\n",
       "\n",
       "[9185 rows x 2 columns]"
      ]
     },
     "execution_count": 20,
     "metadata": {},
     "output_type": "execute_result"
    }
   ],
   "source": [
    "import pandas as pd\n",
    "from sklearn.model_selection import train_test_split\n",
    "import numpy as np\n",
    "import matplotlib.pyplot as plt\n",
    "import seaborn as sns\n",
    "import tensorflow as tf\n",
    "from tensorflow import keras\n",
    "from tensorflow.keras import layers\n",
    "from keras.models import Sequential\n",
    "from keras.layers import Dense\n",
    "from keras.wrappers.scikit_learn import KerasRegressor\n",
    "from sklearn.model_selection import cross_val_score\n",
    "from sklearn.model_selection import KFold\n",
    "from sklearn.preprocessing import StandardScaler\n",
    "from sklearn.pipeline import Pipeline\n",
    "\n",
    "\n",
    "\n",
    "nurses = pd.read_csv(\"nurses.csv\")\n",
    "nurses.drop(axis=1, columns=['JobTitle'], inplace=True)\n",
    "nurses['BasePay'].isnull().values.any()\n",
    "nurses.dropna()"
   ]
  },
  {
   "cell_type": "code",
   "execution_count": 21,
   "id": "0668feb1",
   "metadata": {},
   "outputs": [],
   "source": [
    "X_train, X_test, y_train, y_test = train_test_split(nurses.BasePay, nurses.Year, random_state=3, test_size=.20)"
   ]
  },
  {
   "cell_type": "code",
   "execution_count": 31,
   "id": "7c217400",
   "metadata": {
    "scrolled": true
   },
   "outputs": [
    {
     "name": "stdout",
     "output_type": "stream",
     "text": [
      "Model: \"sequential_7\"\n",
      "_________________________________________________________________\n",
      "Layer (type)                 Output Shape              Param #   \n",
      "=================================================================\n",
      "dense_18 (Dense)             (None, 13)                26        \n",
      "_________________________________________________________________\n",
      "dense_19 (Dense)             (None, 7)                 98        \n",
      "_________________________________________________________________\n",
      "dense_20 (Dense)             (None, 1)                 8         \n",
      "=================================================================\n",
      "Total params: 132\n",
      "Trainable params: 132\n",
      "Non-trainable params: 0\n",
      "_________________________________________________________________\n",
      "None\n"
     ]
    },
    {
     "data": {
      "image/png": "[encoded data removed]",
      "text/plain": [
       "<IPython.core.display.Image object>"
      ]
     },
     "execution_count": 31,
     "metadata": {},
     "output_type": "execute_result"
    }
   ],
   "source": [
    "from keras.models import Sequential\n",
    "from keras.layers import Dense\n",
    "from keras.utils.vis_utils import plot_model\n",
    "import tensorflow as tf\n",
    "\n",
    "# The network will have three hidden layers with an arbitrary number of nodes in each layer.\n",
    "#def baseline_model():\n",
    "    # create model\n",
    "model = Sequential()\n",
    "model.add(Dense(13, input_dim=1, kernel_initializer='normal', activation='relu'))\n",
    "model.add(Dense(7, input_dim=1, kernel_initializer='normal', activation='relu'))\n",
    "model.add(Dense(1, kernel_initializer='normal'))\n",
    "    # Compile model\n",
    "model.compile(loss='mean_squared_error', optimizer='adam', metrics=['mean_squared_error'])\n",
    "print(model.summary()) \n",
    "plot_model(model, to_file='model_plot.png', show_shapes=True, show_layer_names=True)"
   ]
  },
  {
   "cell_type": "code",
   "execution_count": 32,
   "id": "7b7bd6df",
   "metadata": {},
   "outputs": [
    {
     "name": "stdout",
     "output_type": "stream",
     "text": [
      "Epoch 1/50\n",
      "1471/1471 [==============================] - 2s 955us/step - loss: 3830462.5000 - mean_squared_error: 3830462.5000 - val_loss: 4052441.0000 - val_mean_squared_error: 4052441.0000\n",
      "Epoch 2/50\n",
      "1471/1471 [==============================] - 1s 834us/step - loss: 4047413.0000 - mean_squared_error: 4047413.0000 - val_loss: 4042801.7500 - val_mean_squared_error: 4042801.7500\n",
      "Epoch 3/50\n",
      "1471/1471 [==============================] - 1s 769us/step - loss: 4035161.5000 - mean_squared_error: 4035161.5000 - val_loss: 4026279.7500 - val_mean_squared_error: 4026279.7500\n",
      "Epoch 4/50\n",
      "1471/1471 [==============================] - 1s 754us/step - loss: 4008070.0000 - mean_squared_error: 4008070.0000 - val_loss: 3983273.5000 - val_mean_squared_error: 3983273.5000\n",
      "Epoch 5/50\n",
      "1471/1471 [==============================] - 1s 793us/step - loss: 3933371.2500 - mean_squared_error: 3933371.2500 - val_loss: 3867474.0000 - val_mean_squared_error: 3867474.0000\n",
      "Epoch 6/50\n",
      "1471/1471 [==============================] - 1s 802us/step - loss: 3764907.2500 - mean_squared_error: 3764907.2500 - val_loss: 3647074.7500 - val_mean_squared_error: 3647074.7500\n",
      "Epoch 7/50\n",
      "1471/1471 [==============================] - 1s 806us/step - loss: 3504361.5000 - mean_squared_error: 3504361.5000 - val_loss: 3353432.0000 - val_mean_squared_error: 3353432.0000\n",
      "Epoch 8/50\n",
      "1471/1471 [==============================] - 1s 773us/step - loss: 3188326.2500 - mean_squared_error: 3188326.2500 - val_loss: 3018471.2500 - val_mean_squared_error: 3018471.2500\n",
      "Epoch 9/50\n",
      "1471/1471 [==============================] - 1s 764us/step - loss: 2839655.2500 - mean_squared_error: 2839655.2500 - val_loss: 2658067.0000 - val_mean_squared_error: 2658067.0000\n",
      "Epoch 10/50\n",
      "1471/1471 [==============================] - 1s 790us/step - loss: 2471261.5000 - mean_squared_error: 2471261.5000 - val_loss: 2283427.7500 - val_mean_squared_error: 2283427.7500\n",
      "Epoch 11/50\n",
      "1471/1471 [==============================] - 1s 824us/step - loss: 2093986.2500 - mean_squared_error: 2093986.2500 - val_loss: 1905212.7500 - val_mean_squared_error: 1905212.7500\n",
      "Epoch 12/50\n",
      "1471/1471 [==============================] - 1s 803us/step - loss: 1718535.0000 - mean_squared_error: 1718535.0000 - val_loss: 1534317.3750 - val_mean_squared_error: 1534317.3750\n",
      "Epoch 13/50\n",
      "1471/1471 [==============================] - 1s 810us/step - loss: 1355976.2500 - mean_squared_error: 1355976.2500 - val_loss: 1181928.7500 - val_mean_squared_error: 1181928.7500\n",
      "Epoch 14/50\n",
      "1471/1471 [==============================] - 1s 764us/step - loss: 1017561.8125 - mean_squared_error: 1017561.8125 - val_loss: 859314.8125 - val_mean_squared_error: 859314.8125\n",
      "Epoch 15/50\n",
      "1471/1471 [==============================] - 1s 761us/step - loss: 714480.8750 - mean_squared_error: 714480.8750 - val_loss: 577504.8125 - val_mean_squared_error: 577504.8125\n",
      "Epoch 16/50\n",
      "1471/1471 [==============================] - 1s 827us/step - loss: 457352.6250 - mean_squared_error: 457352.6250 - val_loss: 346577.2812 - val_mean_squared_error: 346577.2812\n",
      "Epoch 17/50\n",
      "1471/1471 [==============================] - 1s 801us/step - loss: 255365.3125 - mean_squared_error: 255365.3125 - val_loss: 174559.8750 - val_mean_squared_error: 174559.8750\n",
      "Epoch 18/50\n",
      "1471/1471 [==============================] - 1s 810us/step - loss: 114632.5938 - mean_squared_error: 114632.5938 - val_loss: 65165.1836 - val_mean_squared_error: 65165.1836\n",
      "Epoch 19/50\n",
      "1471/1471 [==============================] - 1s 795us/step - loss: 35077.5352 - mean_squared_error: 35077.5352 - val_loss: 13580.6191 - val_mean_squared_error: 13580.6191\n",
      "Epoch 20/50\n",
      "1471/1471 [==============================] - 1s 762us/step - loss: 5117.3843 - mean_squared_error: 5117.3843 - val_loss: 772.0826 - val_mean_squared_error: 772.0826\n",
      "Epoch 21/50\n",
      "1471/1471 [==============================] - 1s 781us/step - loss: 168.3617 - mean_squared_error: 168.3617 - val_loss: 6.4225 - val_mean_squared_error: 6.4225\n",
      "Epoch 22/50\n",
      "1471/1471 [==============================] - 1s 809us/step - loss: 4.2732 - mean_squared_error: 4.2732 - val_loss: 4.0731 - val_mean_squared_error: 4.0731\n",
      "Epoch 23/50\n",
      "1471/1471 [==============================] - 1s 823us/step - loss: 4.0552 - mean_squared_error: 4.0552 - val_loss: 4.0793 - val_mean_squared_error: 4.0793\n",
      "Epoch 24/50\n",
      "1471/1471 [==============================] - 1s 780us/step - loss: 4.0608 - mean_squared_error: 4.0608 - val_loss: 4.0751 - val_mean_squared_error: 4.0751\n",
      "Epoch 25/50\n",
      "1471/1471 [==============================] - 1s 756us/step - loss: 4.0713 - mean_squared_error: 4.0713 - val_loss: 4.0742 - val_mean_squared_error: 4.0742\n",
      "Epoch 26/50\n",
      "1471/1471 [==============================] - 1s 792us/step - loss: 4.0909 - mean_squared_error: 4.0909 - val_loss: 4.1439 - val_mean_squared_error: 4.1439\n",
      "Epoch 27/50\n",
      "1471/1471 [==============================] - 1s 795us/step - loss: 4.0984 - mean_squared_error: 4.0984 - val_loss: 4.0863 - val_mean_squared_error: 4.0863\n",
      "Epoch 28/50\n",
      "1471/1471 [==============================] - 1s 797us/step - loss: 4.1195 - mean_squared_error: 4.1195 - val_loss: 4.0712 - val_mean_squared_error: 4.0712\n",
      "Epoch 29/50\n",
      "1471/1471 [==============================] - 1s 811us/step - loss: 4.1309 - mean_squared_error: 4.1309 - val_loss: 4.1116 - val_mean_squared_error: 4.1116\n",
      "Epoch 30/50\n",
      "1471/1471 [==============================] - 1s 763us/step - loss: 4.1173 - mean_squared_error: 4.1173 - val_loss: 4.2185 - val_mean_squared_error: 4.2185\n",
      "Epoch 31/50\n",
      "1471/1471 [==============================] - 1s 758us/step - loss: 4.1272 - mean_squared_error: 4.1272 - val_loss: 4.0706 - val_mean_squared_error: 4.0706\n",
      "Epoch 32/50\n",
      "1471/1471 [==============================] - 1s 800us/step - loss: 4.1269 - mean_squared_error: 4.1269 - val_loss: 4.1039 - val_mean_squared_error: 4.1039\n",
      "Epoch 33/50\n",
      "1471/1471 [==============================] - 1s 888us/step - loss: 4.1297 - mean_squared_error: 4.1297 - val_loss: 4.0881 - val_mean_squared_error: 4.0881\n",
      "Epoch 34/50\n",
      "1471/1471 [==============================] - 1s 847us/step - loss: 4.1498 - mean_squared_error: 4.1498 - val_loss: 4.1168 - val_mean_squared_error: 4.1168\n",
      "Epoch 35/50\n",
      "1471/1471 [==============================] - 1s 826us/step - loss: 4.1357 - mean_squared_error: 4.1357 - val_loss: 4.1118 - val_mean_squared_error: 4.1118\n",
      "Epoch 36/50\n",
      "1471/1471 [==============================] - 1s 790us/step - loss: 4.1187 - mean_squared_error: 4.1187 - val_loss: 4.5523 - val_mean_squared_error: 4.5523\n",
      "Epoch 37/50\n",
      "1471/1471 [==============================] - 1s 801us/step - loss: 4.1243 - mean_squared_error: 4.1243 - val_loss: 4.5567 - val_mean_squared_error: 4.5567\n",
      "Epoch 38/50\n",
      "1471/1471 [==============================] - 1s 855us/step - loss: 4.1280 - mean_squared_error: 4.1280 - val_loss: 4.1353 - val_mean_squared_error: 4.1353\n",
      "Epoch 39/50\n",
      "1471/1471 [==============================] - 1s 840us/step - loss: 4.1062 - mean_squared_error: 4.1062 - val_loss: 4.7970 - val_mean_squared_error: 4.7970\n",
      "Epoch 40/50\n",
      "1471/1471 [==============================] - 1s 813us/step - loss: 4.1206 - mean_squared_error: 4.1206 - val_loss: 4.2146 - val_mean_squared_error: 4.2146\n",
      "Epoch 41/50\n",
      "1471/1471 [==============================] - 1s 812us/step - loss: 4.1317 - mean_squared_error: 4.1317 - val_loss: 4.1665 - val_mean_squared_error: 4.1665\n",
      "Epoch 42/50\n",
      "1471/1471 [==============================] - 1s 822us/step - loss: 4.1255 - mean_squared_error: 4.1255 - val_loss: 4.1701 - val_mean_squared_error: 4.1701\n",
      "Epoch 43/50\n",
      "1471/1471 [==============================] - 1s 858us/step - loss: 4.1419 - mean_squared_error: 4.1419 - val_loss: 4.2558 - val_mean_squared_error: 4.2558\n",
      "Epoch 44/50\n",
      "1471/1471 [==============================] - 1s 845us/step - loss: 4.1177 - mean_squared_error: 4.1177 - val_loss: 4.0901 - val_mean_squared_error: 4.0901\n",
      "Epoch 45/50\n",
      "1471/1471 [==============================] - 1s 809us/step - loss: 4.1227 - mean_squared_error: 4.1227 - val_loss: 4.0891 - val_mean_squared_error: 4.0891\n",
      "Epoch 46/50\n",
      "1471/1471 [==============================] - 1s 776us/step - loss: 4.1310 - mean_squared_error: 4.1310 - val_loss: 4.2176 - val_mean_squared_error: 4.2176\n",
      "Epoch 47/50\n"
     ]
    },
    {
     "name": "stdout",
     "output_type": "stream",
     "text": [
      "1471/1471 [==============================] - 1s 803us/step - loss: 4.1297 - mean_squared_error: 4.1297 - val_loss: 4.6482 - val_mean_squared_error: 4.6482\n",
      "Epoch 48/50\n",
      "1471/1471 [==============================] - 1s 878us/step - loss: 4.1135 - mean_squared_error: 4.1135 - val_loss: 4.0776 - val_mean_squared_error: 4.0776\n",
      "Epoch 49/50\n",
      "1471/1471 [==============================] - 1s 907us/step - loss: 4.1275 - mean_squared_error: 4.1275 - val_loss: 4.2228 - val_mean_squared_error: 4.2228\n",
      "Epoch 50/50\n",
      "1471/1471 [==============================] - 1s 834us/step - loss: 4.1165 - mean_squared_error: 4.1165 - val_loss: 4.2131 - val_mean_squared_error: 4.2131\n"
     ]
    },
    {
     "data": {
      "image/png": "[encoded data removed]",
      "text/plain": [
       "<Figure size 432x288 with 1 Axes>"
      ]
     },
     "metadata": {
      "needs_background": "light"
     },
     "output_type": "display_data"
    }
   ],
   "source": [
    "import keras\n",
    "from matplotlib import pyplot as plt\n",
    "\n",
    "history = model.fit(X_train, y_train, epochs=50, validation_split=.2, batch_size=4)\n",
    "plt.plot(history.history['loss'])\n",
    "plt.plot(history.history['val_loss'])\n",
    "plt.title('model loss')\n",
    "plt.ylabel('loss')\n",
    "plt.xlabel('epoch')\n",
    "plt.legend(['train', 'val'], loc='upper left')\n",
    "plt.show()"
   ]
  },
  {
   "cell_type": "code",
   "execution_count": 34,
   "id": "0a640138",
   "metadata": {},
   "outputs": [
    {
     "name": "stdout",
     "output_type": "stream",
     "text": [
      "Epoch 1/5\n",
      "123/123 [==============================] - 1s 3ms/step - loss: 4.0604 - mean_squared_error: 4.0604 - val_loss: 4.0737 - val_mean_squared_error: 4.0737\n",
      "\n",
      "Epoch 00001: loss improved from -inf to 4.06039, saving model to my_best_model.h5\n",
      "Epoch 2/5\n",
      "123/123 [==============================] - 0s 1ms/step - loss: 4.0655 - mean_squared_error: 4.0655 - val_loss: 4.0854 - val_mean_squared_error: 4.0854\n",
      "\n",
      "Epoch 00002: loss improved from 4.06039 to 4.06554, saving model to my_best_model.h5\n",
      "Epoch 3/5\n",
      "123/123 [==============================] - 0s 1ms/step - loss: 4.0573 - mean_squared_error: 4.0573 - val_loss: 4.0707 - val_mean_squared_error: 4.0707\n",
      "\n",
      "Epoch 00003: loss did not improve from 4.06554\n",
      "Epoch 4/5\n",
      "123/123 [==============================] - 0s 2ms/step - loss: 4.0651 - mean_squared_error: 4.0651 - val_loss: 4.0705 - val_mean_squared_error: 4.0705\n",
      "\n",
      "Epoch 00004: loss did not improve from 4.06554\n",
      "Epoch 5/5\n",
      "123/123 [==============================] - 0s 2ms/step - loss: 4.0586 - mean_squared_error: 4.0586 - val_loss: 4.0754 - val_mean_squared_error: 4.0754\n",
      "\n",
      "Epoch 00005: loss did not improve from 4.06554\n"
     ]
    }
   ],
   "source": [
    "from keras.callbacks import EarlyStopping\n",
    "from keras.callbacks import ModelCheckpoint\n",
    "\n",
    "earlystop = EarlyStopping(monitor='val_loss', mode='min', verbose=1,patience=2)\n",
    "modelcheckpoint = ModelCheckpoint('my_best_model.h5', monitor='loss', mode='max', verbose=1, save_best_only=True)\n",
    "\n",
    "history = model.fit(X_train, y_train, epochs=5, batch_size=48, validation_split=0.2, callbacks=[earlystop,modelcheckpoint])"
   ]
  },
  {
   "cell_type": "code",
   "execution_count": 37,
   "id": "12405b51",
   "metadata": {
    "scrolled": true
   },
   "outputs": [
    {
     "name": "stdout",
     "output_type": "stream",
     "text": [
      "58/58 [==============================] - 0s 577us/step - loss: 1.7438 - mean_absolute_error: 1.7438\n"
     ]
    },
    {
     "data": {
      "text/plain": [
       "[1.743767499923706, 1.743767499923706]"
      ]
     },
     "execution_count": 37,
     "metadata": {},
     "output_type": "execute_result"
    }
   ],
   "source": [
    "new_model = tf.keras.models.load_model('my_best_model.h5')\n",
    "new_model.compile(loss='mean_absolute_error', optimizer='adam', metrics=['mean_absolute_error'])\n",
    "new_model.evaluate(X_test,y_test)"
   ]
  },
  {
   "cell_type": "markdown",
   "id": "9e33504b",
   "metadata": {},
   "source": [
    "<h2>Findings</h2>"
   ]
  },
  {
   "cell_type": "markdown",
   "id": "bd211daa",
   "metadata": {},
   "source": [
    "When running the models using Sci kit learn I wasn't able to get the best results. \n",
    "However after switching to a deep connected neural network I was able to get a mean loss error of 1.74 which is pretty insane.\n",
    "I also believe if I hypertune it a bit more I could probably get it really close to 0 by playing around with amount of epochs, as I noticed the more epochs I ran the smarter my model was becoming. I actually want to test it out on 100 epochs to see if my theory is correct."
   ]
  },
  {
   "cell_type": "code",
   "execution_count": 41,
   "id": "673dec5d",
   "metadata": {
    "scrolled": true
   },
   "outputs": [
    {
     "name": "stdout",
     "output_type": "stream",
     "text": [
      "Epoch 1/100\n",
      "1471/1471 [==============================] - 1s 856us/step - loss: 4.1323 - mean_squared_error: 4.1323 - val_loss: 4.2278 - val_mean_squared_error: 4.2278\n",
      "Epoch 2/100\n",
      "1471/1471 [==============================] - 1s 864us/step - loss: 4.1175 - mean_squared_error: 4.1175 - val_loss: 4.1014 - val_mean_squared_error: 4.1014\n",
      "Epoch 3/100\n",
      "1471/1471 [==============================] - 1s 794us/step - loss: 4.1214 - mean_squared_error: 4.1214 - val_loss: 4.3220 - val_mean_squared_error: 4.3220\n",
      "Epoch 4/100\n",
      "1471/1471 [==============================] - 1s 807us/step - loss: 4.1178 - mean_squared_error: 4.1178 - val_loss: 4.1781 - val_mean_squared_error: 4.1781\n",
      "Epoch 5/100\n",
      "1471/1471 [==============================] - 1s 906us/step - loss: 4.1173 - mean_squared_error: 4.1173 - val_loss: 4.0867 - val_mean_squared_error: 4.0867\n",
      "Epoch 6/100\n",
      "1471/1471 [==============================] - 1s 809us/step - loss: 4.1154 - mean_squared_error: 4.1154 - val_loss: 4.1139 - val_mean_squared_error: 4.1139\n",
      "Epoch 7/100\n",
      "1471/1471 [==============================] - 1s 799us/step - loss: 4.1325 - mean_squared_error: 4.1325 - val_loss: 4.0717 - val_mean_squared_error: 4.0717\n",
      "Epoch 8/100\n",
      "1471/1471 [==============================] - 1s 812us/step - loss: 4.1225 - mean_squared_error: 4.1225 - val_loss: 4.0702 - val_mean_squared_error: 4.0702\n",
      "Epoch 9/100\n",
      "1471/1471 [==============================] - 1s 824us/step - loss: 4.1394 - mean_squared_error: 4.1394 - val_loss: 4.1571 - val_mean_squared_error: 4.1571\n",
      "Epoch 10/100\n",
      "1471/1471 [==============================] - 1s 831us/step - loss: 4.1332 - mean_squared_error: 4.1332 - val_loss: 4.0772 - val_mean_squared_error: 4.0772\n",
      "Epoch 11/100\n",
      "1471/1471 [==============================] - 1s 923us/step - loss: 4.1162 - mean_squared_error: 4.1162 - val_loss: 4.0963 - val_mean_squared_error: 4.0963\n",
      "Epoch 12/100\n",
      "1471/1471 [==============================] - 1s 826us/step - loss: 4.1158 - mean_squared_error: 4.1158 - val_loss: 4.0726 - val_mean_squared_error: 4.0726\n",
      "Epoch 13/100\n",
      "1471/1471 [==============================] - 1s 789us/step - loss: 4.1317 - mean_squared_error: 4.1317 - val_loss: 4.0859 - val_mean_squared_error: 4.0859\n",
      "Epoch 14/100\n",
      "1471/1471 [==============================] - 1s 830us/step - loss: 4.1214 - mean_squared_error: 4.1214 - val_loss: 4.0861 - val_mean_squared_error: 4.0861\n",
      "Epoch 15/100\n",
      "1471/1471 [==============================] - 1s 871us/step - loss: 4.1277 - mean_squared_error: 4.1277 - val_loss: 4.1063 - val_mean_squared_error: 4.1063\n",
      "Epoch 16/100\n",
      "1471/1471 [==============================] - 1s 984us/step - loss: 4.1106 - mean_squared_error: 4.1106 - val_loss: 4.4424 - val_mean_squared_error: 4.4424\n",
      "Epoch 17/100\n",
      "1471/1471 [==============================] - 2s 1ms/step - loss: 4.1326 - mean_squared_error: 4.1326 - val_loss: 4.0719 - val_mean_squared_error: 4.0719\n",
      "Epoch 18/100\n",
      "1471/1471 [==============================] - 2s 1ms/step - loss: 4.1293 - mean_squared_error: 4.1293 - val_loss: 4.1389 - val_mean_squared_error: 4.1389\n",
      "Epoch 19/100\n",
      "1471/1471 [==============================] - 2s 1ms/step - loss: 4.1075 - mean_squared_error: 4.1075 - val_loss: 4.1976 - val_mean_squared_error: 4.1976\n",
      "Epoch 20/100\n",
      "1471/1471 [==============================] - 1s 1ms/step - loss: 4.1087 - mean_squared_error: 4.1087 - val_loss: 4.0805 - val_mean_squared_error: 4.0805\n",
      "Epoch 21/100\n",
      "1471/1471 [==============================] - 1s 1ms/step - loss: 4.1217 - mean_squared_error: 4.1217 - val_loss: 4.3230 - val_mean_squared_error: 4.3230\n",
      "Epoch 22/100\n",
      "1471/1471 [==============================] - 1s 829us/step - loss: 4.1350 - mean_squared_error: 4.1350 - val_loss: 4.0965 - val_mean_squared_error: 4.0965\n",
      "Epoch 23/100\n",
      "1471/1471 [==============================] - 1s 814us/step - loss: 4.1256 - mean_squared_error: 4.1256 - val_loss: 4.2111 - val_mean_squared_error: 4.2111\n",
      "Epoch 24/100\n",
      "1471/1471 [==============================] - 1s 824us/step - loss: 4.1289 - mean_squared_error: 4.1289 - val_loss: 4.0702 - val_mean_squared_error: 4.0702\n",
      "Epoch 25/100\n",
      "1471/1471 [==============================] - 1s 824us/step - loss: 4.1377 - mean_squared_error: 4.1377 - val_loss: 4.1003 - val_mean_squared_error: 4.1003\n",
      "Epoch 26/100\n",
      "1471/1471 [==============================] - 1s 885us/step - loss: 4.1265 - mean_squared_error: 4.1265 - val_loss: 4.1138 - val_mean_squared_error: 4.1138\n",
      "Epoch 27/100\n",
      "1471/1471 [==============================] - 1s 792us/step - loss: 4.1169 - mean_squared_error: 4.1169 - val_loss: 4.1820 - val_mean_squared_error: 4.1820\n",
      "Epoch 28/100\n",
      "1471/1471 [==============================] - 1s 819us/step - loss: 4.1578 - mean_squared_error: 4.1578 - val_loss: 4.2427 - val_mean_squared_error: 4.2427\n",
      "Epoch 29/100\n",
      "1471/1471 [==============================] - 1s 850us/step - loss: 4.1242 - mean_squared_error: 4.1242 - val_loss: 4.1163 - val_mean_squared_error: 4.1163\n",
      "Epoch 30/100\n",
      "1471/1471 [==============================] - 1s 851us/step - loss: 4.1344 - mean_squared_error: 4.1344 - val_loss: 4.1122 - val_mean_squared_error: 4.1122\n",
      "Epoch 31/100\n",
      "1471/1471 [==============================] - 1s 929us/step - loss: 4.1210 - mean_squared_error: 4.1210 - val_loss: 4.0741 - val_mean_squared_error: 4.0741\n",
      "Epoch 32/100\n",
      "1471/1471 [==============================] - 1s 832us/step - loss: 4.1358 - mean_squared_error: 4.1358 - val_loss: 4.1465 - val_mean_squared_error: 4.1465\n",
      "Epoch 33/100\n",
      "1471/1471 [==============================] - 1s 840us/step - loss: 4.1319 - mean_squared_error: 4.1319 - val_loss: 4.1631 - val_mean_squared_error: 4.1631\n",
      "Epoch 34/100\n",
      "1471/1471 [==============================] - 1s 837us/step - loss: 4.1332 - mean_squared_error: 4.1332 - val_loss: 4.0742 - val_mean_squared_error: 4.0742\n",
      "Epoch 35/100\n",
      "1471/1471 [==============================] - 1s 761us/step - loss: 4.1237 - mean_squared_error: 4.1237 - val_loss: 4.0912 - val_mean_squared_error: 4.0912\n",
      "Epoch 36/100\n",
      "1471/1471 [==============================] - 1s 763us/step - loss: 4.1362 - mean_squared_error: 4.1362 - val_loss: 4.0928 - val_mean_squared_error: 4.0928\n",
      "Epoch 37/100\n",
      "1471/1471 [==============================] - 1s 727us/step - loss: 4.1294 - mean_squared_error: 4.1294 - val_loss: 4.4941 - val_mean_squared_error: 4.4941\n",
      "Epoch 38/100\n",
      "1471/1471 [==============================] - 1s 721us/step - loss: 4.1120 - mean_squared_error: 4.1120 - val_loss: 4.1185 - val_mean_squared_error: 4.1185\n",
      "Epoch 39/100\n",
      "1471/1471 [==============================] - 1s 758us/step - loss: 4.1347 - mean_squared_error: 4.1347 - val_loss: 4.0769 - val_mean_squared_error: 4.0769\n",
      "Epoch 40/100\n",
      "1471/1471 [==============================] - 1s 752us/step - loss: 4.1233 - mean_squared_error: 4.1233 - val_loss: 4.1543 - val_mean_squared_error: 4.1543\n",
      "Epoch 41/100\n",
      "1471/1471 [==============================] - 1s 799us/step - loss: 4.1243 - mean_squared_error: 4.1243 - val_loss: 4.0879 - val_mean_squared_error: 4.0879\n",
      "Epoch 42/100\n",
      "1471/1471 [==============================] - 1s 839us/step - loss: 4.1373 - mean_squared_error: 4.1373 - val_loss: 4.0781 - val_mean_squared_error: 4.0781\n",
      "Epoch 43/100\n",
      "1471/1471 [==============================] - 1s 842us/step - loss: 4.1182 - mean_squared_error: 4.1182 - val_loss: 4.4457 - val_mean_squared_error: 4.4457\n",
      "Epoch 44/100\n",
      "1471/1471 [==============================] - 1s 793us/step - loss: 4.1458 - mean_squared_error: 4.1458 - val_loss: 4.1268 - val_mean_squared_error: 4.1268\n",
      "Epoch 45/100\n",
      "1471/1471 [==============================] - 1s 784us/step - loss: 4.1250 - mean_squared_error: 4.1250 - val_loss: 4.0714 - val_mean_squared_error: 4.0714\n",
      "Epoch 46/100\n",
      "1471/1471 [==============================] - 1s 814us/step - loss: 4.1350 - mean_squared_error: 4.1350 - val_loss: 4.0954 - val_mean_squared_error: 4.0954\n",
      "Epoch 47/100\n",
      "1471/1471 [==============================] - 1s 755us/step - loss: 4.1304 - mean_squared_error: 4.1304 - val_loss: 4.0742 - val_mean_squared_error: 4.0742\n",
      "Epoch 48/100\n",
      "1471/1471 [==============================] - 1s 726us/step - loss: 4.1268 - mean_squared_error: 4.1268 - val_loss: 4.0754 - val_mean_squared_error: 4.0754\n",
      "Epoch 49/100\n",
      "1471/1471 [==============================] - 1s 721us/step - loss: 4.1344 - mean_squared_error: 4.1344 - val_loss: 4.1931 - val_mean_squared_error: 4.1931\n"
     ]
    },
    {
     "name": "stdout",
     "output_type": "stream",
     "text": [
      "Epoch 50/100\n",
      "1471/1471 [==============================] - 1s 716us/step - loss: 4.1286 - mean_squared_error: 4.1286 - val_loss: 4.0703 - val_mean_squared_error: 4.0703\n",
      "Epoch 51/100\n",
      "1471/1471 [==============================] - 1s 754us/step - loss: 4.1287 - mean_squared_error: 4.1287 - val_loss: 4.0735 - val_mean_squared_error: 4.0735\n",
      "Epoch 52/100\n",
      "1471/1471 [==============================] - 1s 843us/step - loss: 4.1330 - mean_squared_error: 4.1330 - val_loss: 4.1740 - val_mean_squared_error: 4.1740\n",
      "Epoch 53/100\n",
      "1471/1471 [==============================] - 1s 819us/step - loss: 4.1279 - mean_squared_error: 4.1279 - val_loss: 4.1423 - val_mean_squared_error: 4.1423\n",
      "Epoch 54/100\n",
      "1471/1471 [==============================] - 1s 786us/step - loss: 4.1109 - mean_squared_error: 4.1109 - val_loss: 4.1118 - val_mean_squared_error: 4.1118\n",
      "Epoch 55/100\n",
      "1471/1471 [==============================] - 1s 730us/step - loss: 4.1061 - mean_squared_error: 4.1061 - val_loss: 4.1773 - val_mean_squared_error: 4.1773\n",
      "Epoch 56/100\n",
      "1471/1471 [==============================] - 1s 767us/step - loss: 4.1370 - mean_squared_error: 4.1370 - val_loss: 4.0919 - val_mean_squared_error: 4.0919\n",
      "Epoch 57/100\n",
      "1471/1471 [==============================] - 1s 760us/step - loss: 4.1206 - mean_squared_error: 4.1206 - val_loss: 4.0746 - val_mean_squared_error: 4.0746\n",
      "Epoch 58/100\n",
      "1471/1471 [==============================] - 1s 807us/step - loss: 4.1297 - mean_squared_error: 4.1297 - val_loss: 4.1418 - val_mean_squared_error: 4.1418\n",
      "Epoch 59/100\n",
      "1471/1471 [==============================] - 1s 799us/step - loss: 4.1324 - mean_squared_error: 4.1324 - val_loss: 4.0707 - val_mean_squared_error: 4.0707\n",
      "Epoch 60/100\n",
      "1471/1471 [==============================] - 1s 740us/step - loss: 4.1219 - mean_squared_error: 4.1219 - val_loss: 4.1024 - val_mean_squared_error: 4.1024\n",
      "Epoch 61/100\n",
      "1471/1471 [==============================] - 1s 714us/step - loss: 4.1249 - mean_squared_error: 4.1249 - val_loss: 4.0720 - val_mean_squared_error: 4.0720\n",
      "Epoch 62/100\n",
      "1471/1471 [==============================] - 1s 748us/step - loss: 4.1489 - mean_squared_error: 4.1489 - val_loss: 4.0900 - val_mean_squared_error: 4.0900\n",
      "Epoch 63/100\n",
      "1471/1471 [==============================] - 1s 807us/step - loss: 4.1440 - mean_squared_error: 4.1440 - val_loss: 4.0712 - val_mean_squared_error: 4.0712\n",
      "Epoch 64/100\n",
      "1471/1471 [==============================] - 1s 816us/step - loss: 4.1156 - mean_squared_error: 4.1156 - val_loss: 4.0719 - val_mean_squared_error: 4.0719\n",
      "Epoch 65/100\n",
      "1471/1471 [==============================] - 1s 764us/step - loss: 4.1470 - mean_squared_error: 4.1470 - val_loss: 4.1626 - val_mean_squared_error: 4.1626\n",
      "Epoch 66/100\n",
      "1471/1471 [==============================] - 1s 749us/step - loss: 4.1094 - mean_squared_error: 4.1094 - val_loss: 4.0743 - val_mean_squared_error: 4.0743\n",
      "Epoch 67/100\n",
      "1471/1471 [==============================] - 1s 827us/step - loss: 4.1399 - mean_squared_error: 4.1399 - val_loss: 4.2225 - val_mean_squared_error: 4.2225\n",
      "Epoch 68/100\n",
      "1471/1471 [==============================] - 2s 1ms/step - loss: 4.1357 - mean_squared_error: 4.1357 - val_loss: 4.0763 - val_mean_squared_error: 4.0763\n",
      "Epoch 69/100\n",
      "1471/1471 [==============================] - 2s 1ms/step - loss: 4.1305 - mean_squared_error: 4.1305 - val_loss: 4.0773 - val_mean_squared_error: 4.0773\n",
      "Epoch 70/100\n",
      "1471/1471 [==============================] - 1s 803us/step - loss: 4.1542 - mean_squared_error: 4.1542 - val_loss: 4.1629 - val_mean_squared_error: 4.1629\n",
      "Epoch 71/100\n",
      "1471/1471 [==============================] - 2s 1ms/step - loss: 4.1505 - mean_squared_error: 4.1505 - val_loss: 4.1484 - val_mean_squared_error: 4.1484\n",
      "Epoch 72/100\n",
      "1471/1471 [==============================] - 1s 868us/step - loss: 4.1330 - mean_squared_error: 4.1330 - val_loss: 4.1929 - val_mean_squared_error: 4.1929\n",
      "Epoch 73/100\n",
      "1471/1471 [==============================] - 1s 845us/step - loss: 4.1466 - mean_squared_error: 4.1466 - val_loss: 4.0712 - val_mean_squared_error: 4.0712\n",
      "Epoch 74/100\n",
      "1471/1471 [==============================] - 1s 805us/step - loss: 4.1407 - mean_squared_error: 4.1407 - val_loss: 4.0702 - val_mean_squared_error: 4.0702\n",
      "Epoch 75/100\n",
      "1471/1471 [==============================] - 1s 790us/step - loss: 4.1440 - mean_squared_error: 4.1440 - val_loss: 4.1923 - val_mean_squared_error: 4.1923\n",
      "Epoch 76/100\n",
      "1471/1471 [==============================] - 1s 821us/step - loss: 4.1112 - mean_squared_error: 4.1112 - val_loss: 4.1955 - val_mean_squared_error: 4.1955\n",
      "Epoch 77/100\n",
      "1471/1471 [==============================] - 1s 835us/step - loss: 4.1301 - mean_squared_error: 4.1301 - val_loss: 4.1114 - val_mean_squared_error: 4.1114\n",
      "Epoch 78/100\n",
      "1471/1471 [==============================] - 1s 920us/step - loss: 4.1338 - mean_squared_error: 4.1338 - val_loss: 4.0901 - val_mean_squared_error: 4.0901\n",
      "Epoch 79/100\n",
      "1471/1471 [==============================] - 1s 790us/step - loss: 4.1296 - mean_squared_error: 4.1296 - val_loss: 4.1133 - val_mean_squared_error: 4.1133\n",
      "Epoch 80/100\n",
      "1471/1471 [==============================] - 1s 780us/step - loss: 4.1255 - mean_squared_error: 4.1255 - val_loss: 4.0866 - val_mean_squared_error: 4.0866\n",
      "Epoch 81/100\n",
      "1471/1471 [==============================] - 1s 934us/step - loss: 4.1225 - mean_squared_error: 4.1225 - val_loss: 4.0846 - val_mean_squared_error: 4.0846\n",
      "Epoch 82/100\n",
      "1471/1471 [==============================] - 1s 877us/step - loss: 4.1183 - mean_squared_error: 4.1183 - val_loss: 4.2443 - val_mean_squared_error: 4.2443\n",
      "Epoch 83/100\n",
      "1471/1471 [==============================] - 1s 854us/step - loss: 4.1082 - mean_squared_error: 4.1082 - val_loss: 4.0863 - val_mean_squared_error: 4.0863\n",
      "Epoch 84/100\n",
      "1471/1471 [==============================] - 1s 791us/step - loss: 4.1319 - mean_squared_error: 4.1319 - val_loss: 4.2469 - val_mean_squared_error: 4.2469\n",
      "Epoch 85/100\n",
      "1471/1471 [==============================] - 1s 792us/step - loss: 4.1522 - mean_squared_error: 4.1522 - val_loss: 4.2211 - val_mean_squared_error: 4.2211\n",
      "Epoch 86/100\n",
      "1471/1471 [==============================] - 1s 798us/step - loss: 4.1274 - mean_squared_error: 4.1274 - val_loss: 4.0703 - val_mean_squared_error: 4.0703\n",
      "Epoch 87/100\n",
      "1471/1471 [==============================] - 1s 846us/step - loss: 4.1230 - mean_squared_error: 4.1230 - val_loss: 4.0703 - val_mean_squared_error: 4.0703\n",
      "Epoch 88/100\n",
      "1471/1471 [==============================] - 1s 886us/step - loss: 4.1394 - mean_squared_error: 4.1394 - val_loss: 4.0847 - val_mean_squared_error: 4.0847\n",
      "Epoch 89/100\n",
      "1471/1471 [==============================] - 1s 792us/step - loss: 4.1348 - mean_squared_error: 4.1348 - val_loss: 4.0759 - val_mean_squared_error: 4.0759\n",
      "Epoch 90/100\n",
      "1471/1471 [==============================] - 1s 782us/step - loss: 4.1292 - mean_squared_error: 4.1292 - val_loss: 4.1484 - val_mean_squared_error: 4.1484\n",
      "Epoch 91/100\n",
      "1471/1471 [==============================] - 1s 786us/step - loss: 4.1374 - mean_squared_error: 4.1374 - val_loss: 4.1880 - val_mean_squared_error: 4.1880\n",
      "Epoch 92/100\n",
      "1471/1471 [==============================] - 1s 826us/step - loss: 4.1219 - mean_squared_error: 4.1219 - val_loss: 4.1596 - val_mean_squared_error: 4.1596\n",
      "Epoch 93/100\n",
      "1471/1471 [==============================] - 1s 848us/step - loss: 4.1145 - mean_squared_error: 4.1145 - val_loss: 4.2849 - val_mean_squared_error: 4.2849\n",
      "Epoch 94/100\n",
      "1471/1471 [==============================] - 1s 824us/step - loss: 4.1089 - mean_squared_error: 4.1089 - val_loss: 4.0928 - val_mean_squared_error: 4.0928\n",
      "Epoch 95/100\n",
      "1471/1471 [==============================] - 1s 788us/step - loss: 4.1213 - mean_squared_error: 4.1213 - val_loss: 4.0839 - val_mean_squared_error: 4.0839\n",
      "Epoch 96/100\n",
      "1471/1471 [==============================] - 1s 786us/step - loss: 4.1140 - mean_squared_error: 4.1140 - val_loss: 4.0937 - val_mean_squared_error: 4.0937\n",
      "Epoch 97/100\n",
      "1471/1471 [==============================] - 1s 836us/step - loss: 4.1042 - mean_squared_error: 4.1042 - val_loss: 4.2733 - val_mean_squared_error: 4.2733\n",
      "Epoch 98/100\n",
      "1471/1471 [==============================] - 1s 834us/step - loss: 4.1352 - mean_squared_error: 4.1352 - val_loss: 4.1481 - val_mean_squared_error: 4.1481\n"
     ]
    },
    {
     "name": "stdout",
     "output_type": "stream",
     "text": [
      "Epoch 99/100\n",
      "1471/1471 [==============================] - 1s 823us/step - loss: 4.1357 - mean_squared_error: 4.1357 - val_loss: 4.0709 - val_mean_squared_error: 4.0709\n",
      "Epoch 100/100\n",
      "1471/1471 [==============================] - 1s 779us/step - loss: 4.1397 - mean_squared_error: 4.1397 - val_loss: 4.2770 - val_mean_squared_error: 4.2770\n"
     ]
    },
    {
     "data": {
      "image/png": "[encoded data removed]",
      "text/plain": [
       "<Figure size 432x288 with 1 Axes>"
      ]
     },
     "metadata": {
      "needs_background": "light"
     },
     "output_type": "display_data"
    }
   ],
   "source": [
    "history = model.fit(X_train, y_train, epochs=100, validation_split=.2, batch_size=4)\n",
    "plt.plot(history.history['loss'])\n",
    "plt.plot(history.history['val_loss'])\n",
    "plt.title('model loss')\n",
    "plt.ylabel('loss')\n",
    "plt.xlabel('epoch')\n",
    "plt.legend(['train', 'val'], loc='upper left')\n",
    "plt.show()"
   ]
  },
  {
   "cell_type": "code",
   "execution_count": 42,
   "id": "d474a762",
   "metadata": {
    "scrolled": true
   },
   "outputs": [
    {
     "name": "stdout",
     "output_type": "stream",
     "text": [
      "Epoch 1/5\n",
      "123/123 [==============================] - 0s 2ms/step - loss: 4.0612 - mean_squared_error: 4.0612 - val_loss: 4.0711 - val_mean_squared_error: 4.0711\n",
      "\n",
      "Epoch 00001: loss improved from -inf to 4.06115, saving model to my_best_model.h5\n",
      "Epoch 2/5\n",
      "123/123 [==============================] - 0s 1ms/step - loss: 4.0635 - mean_squared_error: 4.0635 - val_loss: 4.0910 - val_mean_squared_error: 4.0910\n",
      "\n",
      "Epoch 00002: loss improved from 4.06115 to 4.06354, saving model to my_best_model.h5\n",
      "Epoch 3/5\n",
      "123/123 [==============================] - 0s 1ms/step - loss: 4.0540 - mean_squared_error: 4.0540 - val_loss: 4.0928 - val_mean_squared_error: 4.0928\n",
      "\n",
      "Epoch 00003: loss did not improve from 4.06354\n",
      "Epoch 00003: early stopping\n"
     ]
    }
   ],
   "source": [
    "earlystop = EarlyStopping(monitor='val_loss', mode='min', verbose=1,patience=2)\n",
    "modelcheckpoint = ModelCheckpoint('my_best_model.h5', monitor='loss', mode='max', verbose=1, save_best_only=True)\n",
    "\n",
    "history = model.fit(X_train, y_train, epochs=5, batch_size=48, validation_split=0.2, callbacks=[earlystop,modelcheckpoint])"
   ]
  },
  {
   "cell_type": "code",
   "execution_count": 44,
   "id": "d4ef3605",
   "metadata": {},
   "outputs": [
    {
     "name": "stdout",
     "output_type": "stream",
     "text": [
      "58/58 [==============================] - 0s 595us/step - loss: 1.7419 - mean_absolute_error: 1.7419\n"
     ]
    },
    {
     "data": {
      "text/plain": [
       "[1.741896152496338, 1.741896152496338]"
      ]
     },
     "execution_count": 44,
     "metadata": {},
     "output_type": "execute_result"
    }
   ],
   "source": [
    "new_model = tf.keras.models.load_model('my_best_model.h5')\n",
    "new_model.compile(loss='mean_absolute_error', optimizer='adam', metrics=['mean_absolute_error'])\n",
    "new_model.evaluate(X_test,y_test)"
   ]
  },
  {
   "cell_type": "markdown",
   "id": "39c44582",
   "metadata": {},
   "source": [
    "Okay after running the model there was only a slight improvement of .02. "
   ]
  }
 ],
 "metadata": {
  "kernelspec": {
   "display_name": "Python 3 (ipykernel)",
   "language": "python",
   "name": "python3"
  },
  "language_info": {
   "codemirror_mode": {
    "name": "ipython",
    "version": 3
   },
   "file_extension": ".py",
   "mimetype": "text/x-python",
   "name": "python",
   "nbconvert_exporter": "python",
   "pygments_lexer": "ipython3",
   "version": "3.9.7"
  }
 },
 "nbformat": 4,
 "nbformat_minor": 5
}
